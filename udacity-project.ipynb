{
 "cells": [
  {
   "cell_type": "code",
   "execution_count": null,
   "source": [
    "from azureml.core import Workspace, Experiment\r\n",
    "\r\n",
    "\r\n",
    "project_title = \"udacity-project\"\r\n",
    "ws = Workspace.from_config()\r\n",
    "exp = Experiment(workspace=ws, name=project_title)\r\n",
    "\r\n",
    "print('Workspace name: ' + ws.name, \r\n",
    "      'Azure region: ' + ws.location, \r\n",
    "      'Subscription id: ' + ws.subscription_id, \r\n",
    "      'Resource group: ' + ws.resource_group, sep = '\\n')\r\n",
    "\r\n",
    "run = exp.start_logging()"
   ],
   "outputs": [],
   "metadata": {
    "gather": {
     "logged": 1598275788035
    }
   }
  },
  {
   "cell_type": "code",
   "execution_count": null,
   "source": [
    "from azureml.core.compute import ComputeTarget, AmlCompute\r\n",
    "from azureml.core.compute_target import ComputeTargetException\r\n",
    "\r\n",
    "# TODO: Create compute cluster\r\n",
    "# Use vm_size = \"Standard_D2_V2\" in your provisioning configuration.\r\n",
    "# max_nodes should be no greater than 4.\r\n",
    "\r\n",
    "### YOUR CODE HERE ###\r\n",
    "\r\n",
    "cluster_name = \"cluster-vhcg77\"\r\n",
    "# verify that the cluster does not exist already\r\n",
    "try:\r\n",
    "    cpu_cluster = ComputeTarget(workspace=ws, name = cluster_name)\r\n",
    "    print('Found existing cluster, use it.')\r\n",
    "except ComputeTargetException:\r\n",
    "    compute_config = AmlCompute.provisioning_configuration(vm_size='Standard_D2_V2', max_nodes = 1, idle_seconds_before_scaledown=120)\r\n",
    "    cpu_cluster = ComputeTarget.create(ws, cluster_name, compute_config)\r\n",
    "\r\n",
    "cpu_cluster.wait_for_completion"
   ],
   "outputs": [],
   "metadata": {
    "gather": {
     "logged": 1598275788675
    },
    "jupyter": {
     "outputs_hidden": false,
     "source_hidden": false
    },
    "nteract": {
     "transient": {
      "deleting": false
     }
    }
   }
  },
  {
   "cell_type": "code",
   "execution_count": null,
   "source": [
    "from azureml.widgets import RunDetails\r\n",
    "from azureml.train.sklearn import SKLearn\r\n",
    "from azureml.train.hyperdrive.run import PrimaryMetricGoal\r\n",
    "from azureml.train.hyperdrive.policy import BanditPolicy\r\n",
    "from azureml.train.hyperdrive.sampling import RandomParameterSampling\r\n",
    "from azureml.train.hyperdrive.runconfig import HyperDriveConfig\r\n",
    "from azureml.train.hyperdrive.parameter_expressions import uniform, choice\r\n",
    "import os\r\n",
    "\r\n",
    "# Specify parameter sampler\r\n",
    "ps = RandomParameterSampling({\r\n",
    "    '--solver': choice('newton-cg', 'lbfgs', 'liblinear'),\r\n",
    "    '--penalty': choice('none', 'l1', 'l2', 'elasticnet'),\r\n",
    "    '--C': choice(1e-5, 1e-4, 1e-3, 1e-2, 1e-1, 1, 10, 100),\r\n",
    "    '--max_iter': choice(100, 200, 300, 400, 500)\r\n",
    "})\r\n",
    "\r\n",
    "# Specify a Policy\r\n",
    "policy = BanditPolicy(slack_factor=0.1, evaluation_interval=2, delay_evaluation=10)\r\n",
    "\r\n",
    "if \"training\" not in os.listdir():\r\n",
    "    os.mkdir(\"./training\")\r\n",
    "\r\n",
    "# Create a SKLearn estimator for use with train.py\r\n",
    "est = SKLearn(source_directory='./', compute_target=cpu_cluster, entry_script='train.py')\r\n",
    "\r\n",
    "# Create a HyperDriveConfig using the estimator, hyperparameter sampler, and policy.\r\n",
    "hyperdrive_config = HyperDriveConfig( hyperparameter_sampling=ps, \r\n",
    "                                        primary_metric_name='accuracy', \r\n",
    "                                        primary_metric_goal=PrimaryMetricGoal.MAXIMIZE, \r\n",
    "                                        max_total_runs=100, \r\n",
    "                                        max_concurrent_runs=4, \r\n",
    "                                        max_duration_minutes=10080, \r\n",
    "                                        policy=policy, \r\n",
    "                                        estimator=est)"
   ],
   "outputs": [],
   "metadata": {
    "gather": {
     "logged": 1598275789986
    },
    "jupyter": {
     "outputs_hidden": false,
     "source_hidden": false
    },
    "nteract": {
     "transient": {
      "deleting": false
     }
    }
   }
  },
  {
   "cell_type": "code",
   "execution_count": null,
   "source": [
    "# Submit your hyperdrive run to the experiment and show run details with the widget.\r\n",
    "\r\n",
    "hyperdrive_run = exp.submit(hyperdrive_config)\r\n",
    "RunDetails(hyperdrive_run).show()\r\n",
    "print('completed')"
   ],
   "outputs": [],
   "metadata": {}
  },
  {
   "cell_type": "code",
   "execution_count": null,
   "source": [
    "import joblib\r\n",
    "# Get your best run and save the model from that run.\r\n",
    "best_run = hyperdrive_run.get_best_run_by_primary_metric()\r\n",
    "best_run_metrics = best_run.get_metrics()\r\n",
    "parameter_values = best_run.get_details()['runDefinition']['Arguments']\r\n",
    "\r\n",
    "print('Best Run Id: ', best_run.id)\r\n",
    "print('\\n Accuracy:', best_run_metrics['accuracy'])\r\n",
    "print('\\n learning rate:',parameter_values[3])\r\n",
    "print('\\n keep probability:',parameter_values[5])\r\n",
    "print('\\n batch size:',parameter_values[7])\r\n",
    "\r\n",
    "best_model = best_run.register_model(model_name='udacity-project')"
   ],
   "outputs": [],
   "metadata": {
    "gather": {
     "logged": 1598276310862
    },
    "jupyter": {
     "outputs_hidden": false,
     "source_hidden": false
    },
    "nteract": {
     "transient": {
      "deleting": false
     }
    }
   }
  },
  {
   "cell_type": "code",
   "execution_count": null,
   "source": [
    "from azureml.data.dataset_factory import TabularDatasetFactory\r\n",
    "\r\n",
    "# Create TabularDataset using TabularDatasetFactory\r\n",
    "# Data is available at: \r\n",
    "# \"https://automlsamplenotebookdata.blob.core.windows.net/automl-sample-notebook-data/bankmarketing_train.csv\"\r\n",
    "dataset_path = \"https://automlsamplenotebookdata.blob.core.windows.net/automl-sample-notebook-data/bankmarketing_train.csv\"\r\n",
    "dataset = TabularDatasetFactory.from_delimited_files(dataset_path)"
   ],
   "outputs": [],
   "metadata": {}
  },
  {
   "cell_type": "code",
   "execution_count": null,
   "source": [
    "from train import clean_data\r\n",
    "import pandas as pd\r\n",
    "from sklearn.model_selection import train_test_split\r\n",
    "from azureml.data.dataset_factory import TabularDatasetFactory\r\n",
    "\r\n",
    "# Use the clean_data function to clean your data.\r\n",
    "x, y = clean_data(dataset)\r\n",
    "\r\n",
    "cleaned_dataset = pd.concat([x,y], axis=1)\r\n",
    "\r\n",
    "# Split data into train and test data\r\n",
    "train_dataset, test_dataset = train_test_split(cleaned_dataset, test_size=0.2, random_state=42)\r\n",
    "\r\n",
    "# Export data as csv\r\n",
    "train_dataset.to_csv(\"train/train_data.csv\", index=False)\r\n",
    "test_dataset.to_csv(\"test/test_data.csv\", index=False)\r\n",
    "\r\n",
    "# Upload data to the datastore\r\n",
    "datastore = ws.get_default_datastore()\r\n",
    "datastore.upload(src_dir='./train', target_path = project_title)\r\n",
    "datastore.upload(src_dir='./test', target_path = project_title)\r\n",
    "\r\n",
    "\r\n",
    "train_dataset_azure = TabularDatasetFactory.from_delimited_files(path=datastore.path(\"udacity-project/train_data.csv\"))\r\n",
    "test_dataset_azure = TabularDatasetFactory.from_delimited_files(path=datastore.path(\"udacity-project/test_data.csv\"))\r\n",
    "\r\n"
   ],
   "outputs": [],
   "metadata": {
    "gather": {
     "logged": 1598275726969
    },
    "jupyter": {
     "outputs_hidden": false,
     "source_hidden": false
    },
    "nteract": {
     "transient": {
      "deleting": false
     }
    }
   }
  },
  {
   "cell_type": "code",
   "execution_count": null,
   "source": [
    "from azureml.train.automl import AutoMLConfig\r\n",
    "\r\n",
    "# Set parameters for AutoMLConfig\r\n",
    "# NOTE: DO NOT CHANGE THE experiment_timeout_minutes PARAMETER OR YOUR INSTANCE WILL TIME OUT.\r\n",
    "# If you wish to run the experiment longer, you will need to run this notebook in your own\r\n",
    "# Azure tenant, which will incur personal costs.\r\n",
    "automl_config = AutoMLConfig(\r\n",
    "                                experiment_timeout_minutes=30,\r\n",
    "                                task='classification',\r\n",
    "                                primary_metric='accuracy',\r\n",
    "                                training_data=train_dataset_azure,\r\n",
    "                                label_column_name='y',\r\n",
    "                                n_cross_validations=5)"
   ],
   "outputs": [],
   "metadata": {
    "gather": {
     "logged": 1598275665403
    },
    "jupyter": {
     "outputs_hidden": false,
     "source_hidden": false
    },
    "nteract": {
     "transient": {
      "deleting": false
     }
    }
   }
  },
  {
   "cell_type": "code",
   "execution_count": 2,
   "source": [
    "# Submit your automl run\r\n",
    "\r\n",
    "run = exp.submit(config=automl_config, show_output=True)\r\n",
    "run.wait_for_completion()"
   ],
   "outputs": [],
   "metadata": {
    "jupyter": {
     "outputs_hidden": false,
     "source_hidden": false
    },
    "nteract": {
     "transient": {
      "deleting": false
     }
    }
   }
  },
  {
   "cell_type": "code",
   "execution_count": null,
   "source": [
    "# Retrieve and save your best automl model.\r\n",
    "\r\n",
    "best_automl_run, fitted_automl_model = run.get_output()\r\n",
    "print(best_automl_run)\r\n",
    "print(fitted_automl_model)\r\n",
    "\r\n",
    "joblib.dump(fitted_automl_model, 'out/fitted_model.joblib')\r\n",
    "\r\n",
    "cpu_cluster.delete()"
   ],
   "outputs": [],
   "metadata": {}
  }
 ],
 "metadata": {
  "kernel_info": {
   "name": "python3-azureml"
  },
  "kernelspec": {
   "display_name": "Python 3",
   "language": "python",
   "name": "python3"
  },
  "language_info": {
   "codemirror_mode": {
    "name": "ipython",
    "version": 3
   },
   "file_extension": ".py",
   "mimetype": "text/x-python",
   "name": "python",
   "nbconvert_exporter": "python",
   "pygments_lexer": "ipython3",
   "version": "3.7.4"
  },
  "nteract": {
   "version": "nteract-front-end@1.0.0"
  }
 },
 "nbformat": 4,
 "nbformat_minor": 2
}